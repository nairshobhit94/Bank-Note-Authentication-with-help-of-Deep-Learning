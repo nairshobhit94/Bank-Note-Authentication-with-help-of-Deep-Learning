{
 "cells": [
  {
   "cell_type": "markdown",
   "metadata": {},
   "source": [
    "# Importing The Important Libraries"
   ]
  },
  {
   "cell_type": "code",
   "execution_count": 1,
   "metadata": {},
   "outputs": [
    {
     "name": "stderr",
     "output_type": "stream",
     "text": [
      "C:\\Users\\Robinhood\\Anaconda3\\lib\\site-packages\\h5py\\__init__.py:36: FutureWarning: Conversion of the second argument of issubdtype from `float` to `np.floating` is deprecated. In future, it will be treated as `np.float64 == np.dtype(float).type`.\n",
      "  from ._conv import register_converters as _register_converters\n",
      "Using TensorFlow backend.\n"
     ]
    }
   ],
   "source": [
    "import pandas as pd\n",
    "import numpy as np\n",
    "import keras\n",
    "from keras.models import Sequential\n",
    "from keras.layers import Dense\n",
    "import matplotlib.pyplot as plt\n",
    "import seaborn as sns\n",
    "\n",
    "from sklearn.model_selection import train_test_split\n",
    "from sklearn.metrics import f1_score, roc_auc_score, log_loss\n",
    "from sklearn.model_selection import cross_val_score, cross_validate"
   ]
  },
  {
   "cell_type": "markdown",
   "metadata": {},
   "source": [
    "# Loading the Dataset"
   ]
  },
  {
   "cell_type": "code",
   "execution_count": 2,
   "metadata": {},
   "outputs": [],
   "source": [
    "bank_note=pd.read_csv(\"BankNote_Authentication.csv\")"
   ]
  },
  {
   "cell_type": "markdown",
   "metadata": {},
   "source": [
    "# Reading the Dataset"
   ]
  },
  {
   "cell_type": "code",
   "execution_count": 3,
   "metadata": {},
   "outputs": [
    {
     "data": {
      "text/html": [
       "<div>\n",
       "<style scoped>\n",
       "    .dataframe tbody tr th:only-of-type {\n",
       "        vertical-align: middle;\n",
       "    }\n",
       "\n",
       "    .dataframe tbody tr th {\n",
       "        vertical-align: top;\n",
       "    }\n",
       "\n",
       "    .dataframe thead th {\n",
       "        text-align: right;\n",
       "    }\n",
       "</style>\n",
       "<table border=\"1\" class=\"dataframe\">\n",
       "  <thead>\n",
       "    <tr style=\"text-align: right;\">\n",
       "      <th></th>\n",
       "      <th>variance</th>\n",
       "      <th>skewness</th>\n",
       "      <th>curtosis</th>\n",
       "      <th>entropy</th>\n",
       "      <th>class</th>\n",
       "    </tr>\n",
       "  </thead>\n",
       "  <tbody>\n",
       "    <tr>\n",
       "      <th>0</th>\n",
       "      <td>3.62160</td>\n",
       "      <td>8.6661</td>\n",
       "      <td>-2.80730</td>\n",
       "      <td>-0.44699</td>\n",
       "      <td>0</td>\n",
       "    </tr>\n",
       "    <tr>\n",
       "      <th>1</th>\n",
       "      <td>4.54590</td>\n",
       "      <td>8.1674</td>\n",
       "      <td>-2.45860</td>\n",
       "      <td>-1.46210</td>\n",
       "      <td>0</td>\n",
       "    </tr>\n",
       "    <tr>\n",
       "      <th>2</th>\n",
       "      <td>3.86600</td>\n",
       "      <td>-2.6383</td>\n",
       "      <td>1.92420</td>\n",
       "      <td>0.10645</td>\n",
       "      <td>0</td>\n",
       "    </tr>\n",
       "    <tr>\n",
       "      <th>3</th>\n",
       "      <td>3.45660</td>\n",
       "      <td>9.5228</td>\n",
       "      <td>-4.01120</td>\n",
       "      <td>-3.59440</td>\n",
       "      <td>0</td>\n",
       "    </tr>\n",
       "    <tr>\n",
       "      <th>4</th>\n",
       "      <td>0.32924</td>\n",
       "      <td>-4.4552</td>\n",
       "      <td>4.57180</td>\n",
       "      <td>-0.98880</td>\n",
       "      <td>0</td>\n",
       "    </tr>\n",
       "    <tr>\n",
       "      <th>5</th>\n",
       "      <td>4.36840</td>\n",
       "      <td>9.6718</td>\n",
       "      <td>-3.96060</td>\n",
       "      <td>-3.16250</td>\n",
       "      <td>0</td>\n",
       "    </tr>\n",
       "    <tr>\n",
       "      <th>6</th>\n",
       "      <td>3.59120</td>\n",
       "      <td>3.0129</td>\n",
       "      <td>0.72888</td>\n",
       "      <td>0.56421</td>\n",
       "      <td>0</td>\n",
       "    </tr>\n",
       "    <tr>\n",
       "      <th>7</th>\n",
       "      <td>2.09220</td>\n",
       "      <td>-6.8100</td>\n",
       "      <td>8.46360</td>\n",
       "      <td>-0.60216</td>\n",
       "      <td>0</td>\n",
       "    </tr>\n",
       "    <tr>\n",
       "      <th>8</th>\n",
       "      <td>3.20320</td>\n",
       "      <td>5.7588</td>\n",
       "      <td>-0.75345</td>\n",
       "      <td>-0.61251</td>\n",
       "      <td>0</td>\n",
       "    </tr>\n",
       "    <tr>\n",
       "      <th>9</th>\n",
       "      <td>1.53560</td>\n",
       "      <td>9.1772</td>\n",
       "      <td>-2.27180</td>\n",
       "      <td>-0.73535</td>\n",
       "      <td>0</td>\n",
       "    </tr>\n",
       "  </tbody>\n",
       "</table>\n",
       "</div>"
      ],
      "text/plain": [
       "   variance  skewness  curtosis  entropy  class\n",
       "0   3.62160    8.6661  -2.80730 -0.44699      0\n",
       "1   4.54590    8.1674  -2.45860 -1.46210      0\n",
       "2   3.86600   -2.6383   1.92420  0.10645      0\n",
       "3   3.45660    9.5228  -4.01120 -3.59440      0\n",
       "4   0.32924   -4.4552   4.57180 -0.98880      0\n",
       "5   4.36840    9.6718  -3.96060 -3.16250      0\n",
       "6   3.59120    3.0129   0.72888  0.56421      0\n",
       "7   2.09220   -6.8100   8.46360 -0.60216      0\n",
       "8   3.20320    5.7588  -0.75345 -0.61251      0\n",
       "9   1.53560    9.1772  -2.27180 -0.73535      0"
      ]
     },
     "execution_count": 3,
     "metadata": {},
     "output_type": "execute_result"
    }
   ],
   "source": [
    "bank_note.head(10)"
   ]
  },
  {
   "cell_type": "markdown",
   "metadata": {},
   "source": [
    "# Shape of the Dataset"
   ]
  },
  {
   "cell_type": "code",
   "execution_count": 4,
   "metadata": {},
   "outputs": [
    {
     "data": {
      "text/plain": [
       "(1372, 5)"
      ]
     },
     "execution_count": 4,
     "metadata": {},
     "output_type": "execute_result"
    }
   ],
   "source": [
    "bank_note.shape"
   ]
  },
  {
   "cell_type": "markdown",
   "metadata": {},
   "source": [
    "# Checking No. of bank notes which are fraud"
   ]
  },
  {
   "cell_type": "code",
   "execution_count": 5,
   "metadata": {},
   "outputs": [
    {
     "data": {
      "text/plain": [
       "<matplotlib.axes._subplots.AxesSubplot at 0x1fd3201d978>"
      ]
     },
     "execution_count": 5,
     "metadata": {},
     "output_type": "execute_result"
    },
    {
     "data": {
      "image/png": "[encoded data removed]",
      "text/plain": [
       "<Figure size 432x288 with 1 Axes>"
      ]
     },
     "metadata": {},
     "output_type": "display_data"
    }
   ],
   "source": [
    "sns.countplot(x=\"class\", data=bank_note)"
   ]
  },
  {
   "cell_type": "markdown",
   "metadata": {},
   "source": [
    "# Checking the correlation"
   ]
  },
  {
   "cell_type": "code",
   "execution_count": 6,
   "metadata": {},
   "outputs": [
    {
     "data": {
      "text/plain": [
       "<matplotlib.axes._subplots.AxesSubplot at 0x1fd340e4780>"
      ]
     },
     "execution_count": 6,
     "metadata": {},
     "output_type": "execute_result"
    },
    {
     "data": {
      "image/png": "[encoded data removed]",
      "text/plain": [
       "<Figure size 864x648 with 2 Axes>"
      ]
     },
     "metadata": {},
     "output_type": "display_data"
    }
   ],
   "source": [
    "corrmat=bank_note.corr()\n",
    "plt.subplots(figsize=(12,9))\n",
    "sns.heatmap(corrmat,square=True)"
   ]
  },
  {
   "cell_type": "code",
   "execution_count": 7,
   "metadata": {},
   "outputs": [
    {
     "data": {
      "text/html": [
       "<div>\n",
       "<style scoped>\n",
       "    .dataframe tbody tr th:only-of-type {\n",
       "        vertical-align: middle;\n",
       "    }\n",
       "\n",
       "    .dataframe tbody tr th {\n",
       "        vertical-align: top;\n",
       "    }\n",
       "\n",
       "    .dataframe thead th {\n",
       "        text-align: right;\n",
       "    }\n",
       "</style>\n",
       "<table border=\"1\" class=\"dataframe\">\n",
       "  <thead>\n",
       "    <tr style=\"text-align: right;\">\n",
       "      <th></th>\n",
       "      <th>variance</th>\n",
       "      <th>skewness</th>\n",
       "      <th>curtosis</th>\n",
       "      <th>entropy</th>\n",
       "      <th>class</th>\n",
       "    </tr>\n",
       "  </thead>\n",
       "  <tbody>\n",
       "    <tr>\n",
       "      <th>variance</th>\n",
       "      <td>1.000000</td>\n",
       "      <td>0.264026</td>\n",
       "      <td>-0.380850</td>\n",
       "      <td>0.276817</td>\n",
       "      <td>-0.724843</td>\n",
       "    </tr>\n",
       "    <tr>\n",
       "      <th>skewness</th>\n",
       "      <td>0.264026</td>\n",
       "      <td>1.000000</td>\n",
       "      <td>-0.786895</td>\n",
       "      <td>-0.526321</td>\n",
       "      <td>-0.444688</td>\n",
       "    </tr>\n",
       "    <tr>\n",
       "      <th>curtosis</th>\n",
       "      <td>-0.380850</td>\n",
       "      <td>-0.786895</td>\n",
       "      <td>1.000000</td>\n",
       "      <td>0.318841</td>\n",
       "      <td>0.155883</td>\n",
       "    </tr>\n",
       "    <tr>\n",
       "      <th>entropy</th>\n",
       "      <td>0.276817</td>\n",
       "      <td>-0.526321</td>\n",
       "      <td>0.318841</td>\n",
       "      <td>1.000000</td>\n",
       "      <td>-0.023424</td>\n",
       "    </tr>\n",
       "    <tr>\n",
       "      <th>class</th>\n",
       "      <td>-0.724843</td>\n",
       "      <td>-0.444688</td>\n",
       "      <td>0.155883</td>\n",
       "      <td>-0.023424</td>\n",
       "      <td>1.000000</td>\n",
       "    </tr>\n",
       "  </tbody>\n",
       "</table>\n",
       "</div>"
      ],
      "text/plain": [
       "          variance  skewness  curtosis   entropy     class\n",
       "variance  1.000000  0.264026 -0.380850  0.276817 -0.724843\n",
       "skewness  0.264026  1.000000 -0.786895 -0.526321 -0.444688\n",
       "curtosis -0.380850 -0.786895  1.000000  0.318841  0.155883\n",
       "entropy   0.276817 -0.526321  0.318841  1.000000 -0.023424\n",
       "class    -0.724843 -0.444688  0.155883 -0.023424  1.000000"
      ]
     },
     "execution_count": 7,
     "metadata": {},
     "output_type": "execute_result"
    }
   ],
   "source": [
    "bank_note.corr()"
   ]
  },
  {
   "cell_type": "markdown",
   "metadata": {},
   "source": [
    "# Checking if there are any null values"
   ]
  },
  {
   "cell_type": "code",
   "execution_count": 8,
   "metadata": {},
   "outputs": [
    {
     "data": {
      "text/plain": [
       "variance    0\n",
       "skewness    0\n",
       "curtosis    0\n",
       "entropy     0\n",
       "class       0\n",
       "dtype: int64"
      ]
     },
     "execution_count": 8,
     "metadata": {},
     "output_type": "execute_result"
    }
   ],
   "source": [
    "bank_note.isnull().sum()"
   ]
  },
  {
   "cell_type": "markdown",
   "metadata": {},
   "source": [
    "# Training the Model using Deep learning"
   ]
  },
  {
   "cell_type": "code",
   "execution_count": 9,
   "metadata": {},
   "outputs": [],
   "source": [
    "X=bank_note.drop(\"class\",axis=1)\n",
    "y=bank_note[\"class\"]"
   ]
  },
  {
   "cell_type": "code",
   "execution_count": 10,
   "metadata": {},
   "outputs": [
    {
     "name": "stderr",
     "output_type": "stream",
     "text": [
      "C:\\Users\\Robinhood\\Anaconda3\\lib\\site-packages\\sklearn\\cross_validation.py:41: DeprecationWarning: This module was deprecated in version 0.18 in favor of the model_selection module into which all the refactored classes and functions are moved. Also note that the interface of the new CV iterators are different from that of this module. This module will be removed in 0.20.\n",
      "  \"This module will be removed in 0.20.\", DeprecationWarning)\n"
     ]
    }
   ],
   "source": [
    "from sklearn.cross_validation import train_test_split\n",
    "X_train, X_test, y_train, y_test=train_test_split(X, y, test_size=0.2, random_state=1)"
   ]
  },
  {
   "cell_type": "markdown",
   "metadata": {},
   "source": [
    "# Building an ANN model with 1 Dense Layer"
   ]
  },
  {
   "cell_type": "code",
   "execution_count": 11,
   "metadata": {},
   "outputs": [
    {
     "name": "stdout",
     "output_type": "stream",
     "text": [
      "WARNING:tensorflow:From C:\\Users\\Robinhood\\Anaconda3\\lib\\site-packages\\tensorflow\\python\\framework\\op_def_library.py:263: colocate_with (from tensorflow.python.framework.ops) is deprecated and will be removed in a future version.\n",
      "Instructions for updating:\n",
      "Colocations handled automatically by placer.\n",
      "_________________________________________________________________\n",
      "Layer (type)                 Output Shape              Param #   \n",
      "=================================================================\n",
      "dense_1 (Dense)              (None, 4)                 20        \n",
      "_________________________________________________________________\n",
      "dense_2 (Dense)              (None, 1)                 5         \n",
      "=================================================================\n",
      "Total params: 25\n",
      "Trainable params: 25\n",
      "Non-trainable params: 0\n",
      "_________________________________________________________________\n"
     ]
    }
   ],
   "source": [
    "model=Sequential()\n",
    "model.add(Dense(4, input_dim=4, activation=\"relu\"))\n",
    "model.add(Dense(1, activation=\"sigmoid\"))\n",
    "model.compile(loss=\"binary_crossentropy\",optimizer=\"adam\",metrics=[\"accuracy\"])\n",
    "model.summary()"
   ]
  },
  {
   "cell_type": "markdown",
   "metadata": {},
   "source": [
    "# Training an ANN Model"
   ]
  },
  {
   "cell_type": "code",
   "execution_count": 12,
   "metadata": {},
   "outputs": [
    {
     "name": "stdout",
     "output_type": "stream",
     "text": [
      "WARNING:tensorflow:From C:\\Users\\Robinhood\\Anaconda3\\lib\\site-packages\\tensorflow\\python\\ops\\math_ops.py:3066: to_int32 (from tensorflow.python.ops.math_ops) is deprecated and will be removed in a future version.\n",
      "Instructions for updating:\n",
      "Use tf.cast instead.\n",
      "Train on 987 samples, validate on 110 samples\n",
      "Epoch 1/100\n",
      "987/987 [==============================] - 4s 4ms/step - loss: 1.5261 - acc: 0.4235 - val_loss: 1.1617 - val_acc: 0.4727\n",
      "Epoch 2/100\n",
      "987/987 [==============================] - 0s 41us/step - loss: 1.2310 - acc: 0.4103 - val_loss: 0.9330 - val_acc: 0.4545\n",
      "Epoch 3/100\n",
      "987/987 [==============================] - 0s 81us/step - loss: 0.9793 - acc: 0.4438 - val_loss: 0.7615 - val_acc: 0.5364\n",
      "Epoch 4/100\n",
      "987/987 [==============================] - 0s 97us/step - loss: 0.7893 - acc: 0.5664 - val_loss: 0.6429 - val_acc: 0.6818\n",
      "Epoch 5/100\n",
      "987/987 [==============================] - 0s 88us/step - loss: 0.6520 - acc: 0.6626 - val_loss: 0.5615 - val_acc: 0.7182\n",
      "Epoch 6/100\n",
      "987/987 [==============================] - 0s 41us/step - loss: 0.5590 - acc: 0.7153 - val_loss: 0.5044 - val_acc: 0.7273\n",
      "Epoch 7/100\n",
      "987/987 [==============================] - 0s 41us/step - loss: 0.4927 - acc: 0.7548 - val_loss: 0.4557 - val_acc: 0.7818\n",
      "Epoch 8/100\n",
      "987/987 [==============================] - 0s 49us/step - loss: 0.4402 - acc: 0.7822 - val_loss: 0.4127 - val_acc: 0.8182\n",
      "Epoch 9/100\n",
      "987/987 [==============================] - 0s 49us/step - loss: 0.3950 - acc: 0.8176 - val_loss: 0.3723 - val_acc: 0.8273\n",
      "Epoch 10/100\n",
      "987/987 [==============================] - 0s 41us/step - loss: 0.3530 - acc: 0.8490 - val_loss: 0.3352 - val_acc: 0.8727\n",
      "Epoch 11/100\n",
      "987/987 [==============================] - 0s 32us/step - loss: 0.3171 - acc: 0.8744 - val_loss: 0.3038 - val_acc: 0.9000\n",
      "Epoch 12/100\n",
      "987/987 [==============================] - 0s 49us/step - loss: 0.2877 - acc: 0.8865 - val_loss: 0.2765 - val_acc: 0.9091\n",
      "Epoch 13/100\n",
      "987/987 [==============================] - 0s 41us/step - loss: 0.2628 - acc: 0.8987 - val_loss: 0.2550 - val_acc: 0.9091\n",
      "Epoch 14/100\n",
      "987/987 [==============================] - 0s 41us/step - loss: 0.2420 - acc: 0.9078 - val_loss: 0.2350 - val_acc: 0.9091\n",
      "Epoch 15/100\n",
      "987/987 [==============================] - 0s 41us/step - loss: 0.2245 - acc: 0.9200 - val_loss: 0.2150 - val_acc: 0.9182\n",
      "Epoch 16/100\n",
      "987/987 [==============================] - 0s 41us/step - loss: 0.2086 - acc: 0.9291 - val_loss: 0.2006 - val_acc: 0.9182\n",
      "Epoch 17/100\n",
      "987/987 [==============================] - 0s 41us/step - loss: 0.1952 - acc: 0.9341 - val_loss: 0.1875 - val_acc: 0.9273\n",
      "Epoch 18/100\n",
      "987/987 [==============================] - 0s 41us/step - loss: 0.1833 - acc: 0.9382 - val_loss: 0.1749 - val_acc: 0.9273\n",
      "Epoch 19/100\n",
      "987/987 [==============================] - 0s 41us/step - loss: 0.1727 - acc: 0.9412 - val_loss: 0.1645 - val_acc: 0.9545\n",
      "Epoch 20/100\n",
      "987/987 [==============================] - 0s 41us/step - loss: 0.1634 - acc: 0.9422 - val_loss: 0.1549 - val_acc: 0.9545\n",
      "Epoch 21/100\n",
      "987/987 [==============================] - 0s 32us/step - loss: 0.1550 - acc: 0.9443 - val_loss: 0.1460 - val_acc: 0.9727\n",
      "Epoch 22/100\n",
      "987/987 [==============================] - 0s 32us/step - loss: 0.1474 - acc: 0.9463 - val_loss: 0.1385 - val_acc: 0.9818\n",
      "Epoch 23/100\n",
      "987/987 [==============================] - 0s 32us/step - loss: 0.1408 - acc: 0.9493 - val_loss: 0.1312 - val_acc: 0.9818\n",
      "Epoch 24/100\n",
      "987/987 [==============================] - 0s 41us/step - loss: 0.1346 - acc: 0.9514 - val_loss: 0.1246 - val_acc: 0.9909\n",
      "Epoch 25/100\n",
      "987/987 [==============================] - 0s 41us/step - loss: 0.1289 - acc: 0.9554 - val_loss: 0.1196 - val_acc: 0.9909\n",
      "Epoch 26/100\n",
      "987/987 [==============================] - 0s 41us/step - loss: 0.1237 - acc: 0.9574 - val_loss: 0.1148 - val_acc: 0.9909\n",
      "Epoch 27/100\n",
      "987/987 [==============================] - 0s 32us/step - loss: 0.1190 - acc: 0.9605 - val_loss: 0.1093 - val_acc: 0.9909\n",
      "Epoch 28/100\n",
      "987/987 [==============================] - 0s 32us/step - loss: 0.1145 - acc: 0.9605 - val_loss: 0.1053 - val_acc: 0.9909\n",
      "Epoch 29/100\n",
      "987/987 [==============================] - 0s 41us/step - loss: 0.1104 - acc: 0.9635 - val_loss: 0.1009 - val_acc: 0.9909\n",
      "Epoch 30/100\n",
      "987/987 [==============================] - 0s 41us/step - loss: 0.1065 - acc: 0.9656 - val_loss: 0.0969 - val_acc: 0.9909\n",
      "Epoch 31/100\n",
      "987/987 [==============================] - 0s 41us/step - loss: 0.1029 - acc: 0.9696 - val_loss: 0.0935 - val_acc: 0.9909\n",
      "Epoch 32/100\n",
      "987/987 [==============================] - 0s 75us/step - loss: 0.0995 - acc: 0.9706 - val_loss: 0.0893 - val_acc: 0.9909\n",
      "Epoch 33/100\n",
      "987/987 [==============================] - 0s 41us/step - loss: 0.0963 - acc: 0.9716 - val_loss: 0.0867 - val_acc: 1.0000\n",
      "Epoch 34/100\n",
      "987/987 [==============================] - 0s 41us/step - loss: 0.0935 - acc: 0.9737 - val_loss: 0.0829 - val_acc: 1.0000\n",
      "Epoch 35/100\n",
      "987/987 [==============================] - 0s 32us/step - loss: 0.0905 - acc: 0.9889 - val_loss: 0.0810 - val_acc: 1.0000\n",
      "Epoch 36/100\n",
      "987/987 [==============================] - 0s 41us/step - loss: 0.0878 - acc: 0.9899 - val_loss: 0.0784 - val_acc: 1.0000\n",
      "Epoch 37/100\n",
      "987/987 [==============================] - 0s 41us/step - loss: 0.0852 - acc: 0.9899 - val_loss: 0.0752 - val_acc: 1.0000\n",
      "Epoch 38/100\n",
      "987/987 [==============================] - 0s 41us/step - loss: 0.0828 - acc: 0.9899 - val_loss: 0.0731 - val_acc: 1.0000\n",
      "Epoch 39/100\n",
      "987/987 [==============================] - 0s 41us/step - loss: 0.0805 - acc: 0.9899 - val_loss: 0.0708 - val_acc: 1.0000\n",
      "Epoch 40/100\n",
      "987/987 [==============================] - 0s 41us/step - loss: 0.0782 - acc: 0.9899 - val_loss: 0.0684 - val_acc: 1.0000\n",
      "Epoch 41/100\n",
      "987/987 [==============================] - 0s 41us/step - loss: 0.0761 - acc: 0.9899 - val_loss: 0.0663 - val_acc: 1.0000\n",
      "Epoch 42/100\n",
      "987/987 [==============================] - 0s 41us/step - loss: 0.0741 - acc: 0.9919 - val_loss: 0.0646 - val_acc: 1.0000\n",
      "Epoch 43/100\n",
      "987/987 [==============================] - 0s 41us/step - loss: 0.0722 - acc: 0.9929 - val_loss: 0.0626 - val_acc: 1.0000\n",
      "Epoch 44/100\n",
      "987/987 [==============================] - 0s 41us/step - loss: 0.0703 - acc: 0.9929 - val_loss: 0.0603 - val_acc: 1.0000\n",
      "Epoch 45/100\n",
      "987/987 [==============================] - 0s 41us/step - loss: 0.0686 - acc: 0.9929 - val_loss: 0.0577 - val_acc: 1.0000\n",
      "Epoch 46/100\n",
      "987/987 [==============================] - 0s 41us/step - loss: 0.0668 - acc: 0.9929 - val_loss: 0.0572 - val_acc: 1.0000\n",
      "Epoch 47/100\n",
      "987/987 [==============================] - 0s 49us/step - loss: 0.0649 - acc: 0.9929 - val_loss: 0.0552 - val_acc: 1.0000\n",
      "Epoch 48/100\n",
      "987/987 [==============================] - 0s 41us/step - loss: 0.0633 - acc: 0.9929 - val_loss: 0.0535 - val_acc: 1.0000\n",
      "Epoch 49/100\n",
      "987/987 [==============================] - 0s 41us/step - loss: 0.0617 - acc: 0.9939 - val_loss: 0.0521 - val_acc: 1.0000\n",
      "Epoch 50/100\n",
      "987/987 [==============================] - 0s 41us/step - loss: 0.0602 - acc: 0.9949 - val_loss: 0.0507 - val_acc: 1.0000\n",
      "Epoch 51/100\n",
      "987/987 [==============================] - 0s 41us/step - loss: 0.0587 - acc: 0.9949 - val_loss: 0.0492 - val_acc: 1.0000\n",
      "Epoch 52/100\n",
      "987/987 [==============================] - 0s 41us/step - loss: 0.0573 - acc: 0.9949 - val_loss: 0.0479 - val_acc: 1.0000\n",
      "Epoch 53/100\n",
      "987/987 [==============================] - 0s 32us/step - loss: 0.0559 - acc: 0.9949 - val_loss: 0.0469 - val_acc: 1.0000\n",
      "Epoch 54/100\n",
      "987/987 [==============================] - 0s 32us/step - loss: 0.0545 - acc: 0.9949 - val_loss: 0.0452 - val_acc: 1.0000\n",
      "Epoch 55/100\n",
      "987/987 [==============================] - 0s 41us/step - loss: 0.0532 - acc: 0.9949 - val_loss: 0.0439 - val_acc: 1.0000\n",
      "Epoch 56/100\n",
      "987/987 [==============================] - 0s 41us/step - loss: 0.0519 - acc: 0.9959 - val_loss: 0.0427 - val_acc: 1.0000\n",
      "Epoch 57/100\n",
      "987/987 [==============================] - 0s 41us/step - loss: 0.0507 - acc: 0.9959 - val_loss: 0.0418 - val_acc: 1.0000\n",
      "Epoch 58/100\n",
      "987/987 [==============================] - 0s 41us/step - loss: 0.0495 - acc: 0.9959 - val_loss: 0.0408 - val_acc: 1.0000\n",
      "Epoch 59/100\n"
     ]
    },
    {
     "name": "stdout",
     "output_type": "stream",
     "text": [
      "987/987 [==============================] - 0s 41us/step - loss: 0.0484 - acc: 0.9959 - val_loss: 0.0396 - val_acc: 1.0000\n",
      "Epoch 60/100\n",
      "987/987 [==============================] - 0s 49us/step - loss: 0.0472 - acc: 0.9959 - val_loss: 0.0379 - val_acc: 1.0000\n",
      "Epoch 61/100\n",
      "987/987 [==============================] - 0s 49us/step - loss: 0.0462 - acc: 0.9959 - val_loss: 0.0373 - val_acc: 1.0000\n",
      "Epoch 62/100\n",
      "987/987 [==============================] - 0s 49us/step - loss: 0.0452 - acc: 0.9959 - val_loss: 0.0362 - val_acc: 1.0000\n",
      "Epoch 63/100\n",
      "987/987 [==============================] - 0s 41us/step - loss: 0.0441 - acc: 0.9959 - val_loss: 0.0352 - val_acc: 1.0000\n",
      "Epoch 64/100\n",
      "987/987 [==============================] - 0s 41us/step - loss: 0.0431 - acc: 0.9959 - val_loss: 0.0342 - val_acc: 1.0000\n",
      "Epoch 65/100\n",
      "987/987 [==============================] - 0s 49us/step - loss: 0.0422 - acc: 0.9959 - val_loss: 0.0331 - val_acc: 1.0000\n",
      "Epoch 66/100\n",
      "987/987 [==============================] - 0s 41us/step - loss: 0.0412 - acc: 0.9959 - val_loss: 0.0325 - val_acc: 1.0000\n",
      "Epoch 67/100\n",
      "987/987 [==============================] - 0s 41us/step - loss: 0.0403 - acc: 0.9959 - val_loss: 0.0316 - val_acc: 1.0000\n",
      "Epoch 68/100\n",
      "987/987 [==============================] - 0s 32us/step - loss: 0.0394 - acc: 0.9959 - val_loss: 0.0306 - val_acc: 1.0000\n",
      "Epoch 69/100\n",
      "987/987 [==============================] - 0s 32us/step - loss: 0.0386 - acc: 0.9959 - val_loss: 0.0298 - val_acc: 1.0000\n",
      "Epoch 70/100\n",
      "987/987 [==============================] - 0s 41us/step - loss: 0.0377 - acc: 0.9959 - val_loss: 0.0292 - val_acc: 1.0000\n",
      "Epoch 71/100\n",
      "987/987 [==============================] - 0s 41us/step - loss: 0.0369 - acc: 0.9959 - val_loss: 0.0283 - val_acc: 1.0000\n",
      "Epoch 72/100\n",
      "987/987 [==============================] - 0s 41us/step - loss: 0.0362 - acc: 0.9959 - val_loss: 0.0276 - val_acc: 1.0000\n",
      "Epoch 73/100\n",
      "987/987 [==============================] - 0s 41us/step - loss: 0.0353 - acc: 0.9959 - val_loss: 0.0266 - val_acc: 1.0000\n",
      "Epoch 74/100\n",
      "987/987 [==============================] - 0s 32us/step - loss: 0.0346 - acc: 0.9959 - val_loss: 0.0261 - val_acc: 1.0000\n",
      "Epoch 75/100\n",
      "987/987 [==============================] - 0s 41us/step - loss: 0.0339 - acc: 0.9959 - val_loss: 0.0254 - val_acc: 1.0000\n",
      "Epoch 76/100\n",
      "987/987 [==============================] - 0s 41us/step - loss: 0.0332 - acc: 0.9959 - val_loss: 0.0246 - val_acc: 1.0000\n",
      "Epoch 77/100\n",
      "987/987 [==============================] - 0s 41us/step - loss: 0.0325 - acc: 0.9959 - val_loss: 0.0242 - val_acc: 1.0000\n",
      "Epoch 78/100\n",
      "987/987 [==============================] - 0s 41us/step - loss: 0.0318 - acc: 0.9959 - val_loss: 0.0235 - val_acc: 1.0000\n",
      "Epoch 79/100\n",
      "987/987 [==============================] - 0s 32us/step - loss: 0.0311 - acc: 0.9959 - val_loss: 0.0231 - val_acc: 1.0000\n",
      "Epoch 80/100\n",
      "987/987 [==============================] - 0s 41us/step - loss: 0.0305 - acc: 0.9959 - val_loss: 0.0226 - val_acc: 1.0000\n",
      "Epoch 81/100\n",
      "987/987 [==============================] - 0s 41us/step - loss: 0.0299 - acc: 0.9959 - val_loss: 0.0219 - val_acc: 1.0000\n",
      "Epoch 82/100\n",
      "987/987 [==============================] - 0s 49us/step - loss: 0.0293 - acc: 0.9959 - val_loss: 0.0211 - val_acc: 1.0000\n",
      "Epoch 83/100\n",
      "987/987 [==============================] - 0s 49us/step - loss: 0.0287 - acc: 0.9970 - val_loss: 0.0206 - val_acc: 1.0000\n",
      "Epoch 84/100\n",
      "987/987 [==============================] - 0s 49us/step - loss: 0.0282 - acc: 0.9980 - val_loss: 0.0203 - val_acc: 1.0000\n",
      "Epoch 85/100\n",
      "987/987 [==============================] - 0s 81us/step - loss: 0.0276 - acc: 0.9959 - val_loss: 0.0195 - val_acc: 1.0000\n",
      "Epoch 86/100\n",
      "987/987 [==============================] - 0s 41us/step - loss: 0.0271 - acc: 0.9959 - val_loss: 0.0192 - val_acc: 1.0000\n",
      "Epoch 87/100\n",
      "987/987 [==============================] - 0s 41us/step - loss: 0.0265 - acc: 0.9990 - val_loss: 0.0190 - val_acc: 1.0000\n",
      "Epoch 88/100\n",
      "987/987 [==============================] - 0s 41us/step - loss: 0.0260 - acc: 0.9990 - val_loss: 0.0183 - val_acc: 1.0000\n",
      "Epoch 89/100\n",
      "987/987 [==============================] - 0s 41us/step - loss: 0.0255 - acc: 0.9990 - val_loss: 0.0177 - val_acc: 1.0000\n",
      "Epoch 90/100\n",
      "987/987 [==============================] - 0s 41us/step - loss: 0.0250 - acc: 0.9990 - val_loss: 0.0176 - val_acc: 1.0000\n",
      "Epoch 91/100\n",
      "987/987 [==============================] - 0s 41us/step - loss: 0.0245 - acc: 0.9990 - val_loss: 0.0167 - val_acc: 1.0000\n",
      "Epoch 92/100\n",
      "987/987 [==============================] - 0s 49us/step - loss: 0.0241 - acc: 0.9990 - val_loss: 0.0166 - val_acc: 1.0000\n",
      "Epoch 93/100\n",
      "987/987 [==============================] - 0s 41us/step - loss: 0.0235 - acc: 0.9990 - val_loss: 0.0160 - val_acc: 1.0000\n",
      "Epoch 94/100\n",
      "987/987 [==============================] - 0s 41us/step - loss: 0.0231 - acc: 0.9990 - val_loss: 0.0156 - val_acc: 1.0000\n",
      "Epoch 95/100\n",
      "987/987 [==============================] - 0s 41us/step - loss: 0.0226 - acc: 0.9990 - val_loss: 0.0154 - val_acc: 1.0000\n",
      "Epoch 96/100\n",
      "987/987 [==============================] - 0s 41us/step - loss: 0.0222 - acc: 0.9990 - val_loss: 0.0150 - val_acc: 1.0000\n",
      "Epoch 97/100\n",
      "987/987 [==============================] - 0s 41us/step - loss: 0.0218 - acc: 0.9990 - val_loss: 0.0148 - val_acc: 1.0000\n",
      "Epoch 98/100\n",
      "987/987 [==============================] - 0s 49us/step - loss: 0.0214 - acc: 0.9990 - val_loss: 0.0143 - val_acc: 1.0000\n",
      "Epoch 99/100\n",
      "987/987 [==============================] - 0s 57us/step - loss: 0.0210 - acc: 0.9990 - val_loss: 0.0142 - val_acc: 1.0000\n",
      "Epoch 100/100\n",
      "987/987 [==============================] - 0s 41us/step - loss: 0.0206 - acc: 0.9990 - val_loss: 0.0135 - val_acc: 1.0000\n"
     ]
    }
   ],
   "source": [
    "history=model.fit(X_train, y_train, validation_split=0.1, epochs=100, verbose=1)"
   ]
  },
  {
   "cell_type": "code",
   "execution_count": 13,
   "metadata": {},
   "outputs": [
    {
     "data": {
      "image/png": "[encoded data removed]",
      "text/plain": [
       "<Figure size 432x288 with 1 Axes>"
      ]
     },
     "metadata": {},
     "output_type": "display_data"
    }
   ],
   "source": [
    "plt.plot(history.history['acc'])\n",
    "plt.plot(history.history['val_acc'])\n",
    "plt.title('model accuracy')\n",
    "plt.xlabel('accuracy')\n",
    "plt.ylabel('epoch')\n",
    "plt.legend(['train', 'val'], loc='upper left')\n",
    "plt.show()"
   ]
  },
  {
   "cell_type": "code",
   "execution_count": 14,
   "metadata": {},
   "outputs": [
    {
     "data": {
      "image/png": "[encoded data removed]",
      "text/plain": [
       "<Figure size 432x288 with 1 Axes>"
      ]
     },
     "metadata": {},
     "output_type": "display_data"
    }
   ],
   "source": [
    "plt.plot(history.history['loss'])\n",
    "plt.plot(history.history['val_loss'])\n",
    "plt.title('model loss')\n",
    "plt.xlabel('epoch')\n",
    "plt.ylabel('loss')\n",
    "plt.legend(['training loss', 'test loss'], loc='upper left')\n",
    "plt.show()"
   ]
  },
  {
   "cell_type": "markdown",
   "metadata": {},
   "source": [
    "# Accuracy of the Dataset"
   ]
  },
  {
   "cell_type": "code",
   "execution_count": 15,
   "metadata": {},
   "outputs": [
    {
     "name": "stdout",
     "output_type": "stream",
     "text": [
      "1097/1097 [==============================] - 0s 22us/step\n",
      "Accuracy:99.91\n"
     ]
    }
   ],
   "source": [
    "_,accuracy=model.evaluate(X_train, y_train)\n",
    "print(\"Accuracy:%.2f\"%(accuracy*100))"
   ]
  },
  {
   "cell_type": "markdown",
   "metadata": {},
   "source": [
    "# Calculating F-1 score"
   ]
  },
  {
   "cell_type": "code",
   "execution_count": 17,
   "metadata": {},
   "outputs": [
    {
     "data": {
      "text/html": [
       "<div>\n",
       "<style scoped>\n",
       "    .dataframe tbody tr th:only-of-type {\n",
       "        vertical-align: middle;\n",
       "    }\n",
       "\n",
       "    .dataframe tbody tr th {\n",
       "        vertical-align: top;\n",
       "    }\n",
       "\n",
       "    .dataframe thead th {\n",
       "        text-align: right;\n",
       "    }\n",
       "</style>\n",
       "<table border=\"1\" class=\"dataframe\">\n",
       "  <thead>\n",
       "    <tr style=\"text-align: right;\">\n",
       "      <th></th>\n",
       "      <th>Test accuracy</th>\n",
       "      <th>F1 Score</th>\n",
       "      <th>Total Loss</th>\n",
       "    </tr>\n",
       "  </thead>\n",
       "  <tbody>\n",
       "    <tr>\n",
       "      <th>0</th>\n",
       "      <td>99.273</td>\n",
       "      <td>0.993</td>\n",
       "      <td>0.028</td>\n",
       "    </tr>\n",
       "  </tbody>\n",
       "</table>\n",
       "</div>"
      ],
      "text/plain": [
       "   Test accuracy  F1 Score  Total Loss\n",
       "0         99.273     0.993       0.028"
      ]
     },
     "metadata": {},
     "output_type": "display_data"
    }
   ],
   "source": [
    "test_loss=model.evaluate(X_test, y_test, verbose=0)\n",
    "\n",
    "# Calculate evaluation Parameters\n",
    "f1=f1_score(y_test, model.predict_classes(X_test), average='micro')\n",
    "\n",
    "stats=pd.DataFrame({'Test accuracy':\n",
    "                   round(test_loss[1]*100,3),\n",
    "                   'F1 Score' : round(f1,3),\n",
    "                   'Total Loss': round(test_loss[0],3)},\n",
    "                  index=[0])\n",
    "\n",
    "display(stats)"
   ]
  },
  {
   "cell_type": "code",
   "execution_count": null,
   "metadata": {},
   "outputs": [],
   "source": []
  },
  {
   "cell_type": "code",
   "execution_count": null,
   "metadata": {},
   "outputs": [],
   "source": []
  }
 ],
 "metadata": {
  "kernelspec": {
   "display_name": "Python 3",
   "language": "python",
   "name": "python3"
  },
  "language_info": {
   "codemirror_mode": {
    "name": "ipython",
    "version": 3
   },
   "file_extension": ".py",
   "mimetype": "text/x-python",
   "name": "python",
   "nbconvert_exporter": "python",
   "pygments_lexer": "ipython3",
   "version": "3.6.5"
  }
 },
 "nbformat": 4,
 "nbformat_minor": 2
}
