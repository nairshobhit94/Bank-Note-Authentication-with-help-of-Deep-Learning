{
 "cells": [
  {
   "cell_type": "markdown",
   "metadata": {},
   "source": [
    "# Importing The Important Libraries"
   ]
  },
  {
   "cell_type": "code",
   "execution_count": 1,
   "metadata": {},
   "outputs": [
    {
     "name": "stderr",
     "output_type": "stream",
     "text": [
      "C:\\Users\\Robinhood\\Anaconda3\\lib\\site-packages\\h5py\\__init__.py:36: FutureWarning: Conversion of the second argument of issubdtype from `float` to `np.floating` is deprecated. In future, it will be treated as `np.float64 == np.dtype(float).type`.\n",
      "  from ._conv import register_converters as _register_converters\n",
      "Using TensorFlow backend.\n"
     ]
    }
   ],
   "source": [
    "import pandas as pd\n",
    "import numpy as np\n",
    "import keras\n",
    "from keras.models import Sequential\n",
    "from keras.layers import Dense\n",
    "import matplotlib.pyplot as plt\n",
    "import seaborn as sns\n",
    "\n",
    "from sklearn.model_selection import train_test_split\n",
    "from sklearn.metrics import f1_score, roc_auc_score, log_loss\n",
    "from sklearn.model_selection import cross_val_score, cross_validate"
   ]
  },
  {
   "cell_type": "markdown",
   "metadata": {},
   "source": [
    "# Loading the Dataset"
   ]
  },
  {
   "cell_type": "code",
   "execution_count": 2,
   "metadata": {},
   "outputs": [],
   "source": [
    "bank_note=pd.read_csv(\"BankNote_Authentication.csv\")"
   ]
  },
  {
   "cell_type": "markdown",
   "metadata": {},
   "source": [
    "# Reading the Dataset"
   ]
  },
  {
   "cell_type": "code",
   "execution_count": 3,
   "metadata": {},
   "outputs": [
    {
     "data": {
      "text/html": [
       "<div>\n",
       "<style scoped>\n",
       "    .dataframe tbody tr th:only-of-type {\n",
       "        vertical-align: middle;\n",
       "    }\n",
       "\n",
       "    .dataframe tbody tr th {\n",
       "        vertical-align: top;\n",
       "    }\n",
       "\n",
       "    .dataframe thead th {\n",
       "        text-align: right;\n",
       "    }\n",
       "</style>\n",
       "<table border=\"1\" class=\"dataframe\">\n",
       "  <thead>\n",
       "    <tr style=\"text-align: right;\">\n",
       "      <th></th>\n",
       "      <th>variance</th>\n",
       "      <th>skewness</th>\n",
       "      <th>curtosis</th>\n",
       "      <th>entropy</th>\n",
       "      <th>class</th>\n",
       "    </tr>\n",
       "  </thead>\n",
       "  <tbody>\n",
       "    <tr>\n",
       "      <th>0</th>\n",
       "      <td>3.62160</td>\n",
       "      <td>8.6661</td>\n",
       "      <td>-2.80730</td>\n",
       "      <td>-0.44699</td>\n",
       "      <td>0</td>\n",
       "    </tr>\n",
       "    <tr>\n",
       "      <th>1</th>\n",
       "      <td>4.54590</td>\n",
       "      <td>8.1674</td>\n",
       "      <td>-2.45860</td>\n",
       "      <td>-1.46210</td>\n",
       "      <td>0</td>\n",
       "    </tr>\n",
       "    <tr>\n",
       "      <th>2</th>\n",
       "      <td>3.86600</td>\n",
       "      <td>-2.6383</td>\n",
       "      <td>1.92420</td>\n",
       "      <td>0.10645</td>\n",
       "      <td>0</td>\n",
       "    </tr>\n",
       "    <tr>\n",
       "      <th>3</th>\n",
       "      <td>3.45660</td>\n",
       "      <td>9.5228</td>\n",
       "      <td>-4.01120</td>\n",
       "      <td>-3.59440</td>\n",
       "      <td>0</td>\n",
       "    </tr>\n",
       "    <tr>\n",
       "      <th>4</th>\n",
       "      <td>0.32924</td>\n",
       "      <td>-4.4552</td>\n",
       "      <td>4.57180</td>\n",
       "      <td>-0.98880</td>\n",
       "      <td>0</td>\n",
       "    </tr>\n",
       "    <tr>\n",
       "      <th>5</th>\n",
       "      <td>4.36840</td>\n",
       "      <td>9.6718</td>\n",
       "      <td>-3.96060</td>\n",
       "      <td>-3.16250</td>\n",
       "      <td>0</td>\n",
       "    </tr>\n",
       "    <tr>\n",
       "      <th>6</th>\n",
       "      <td>3.59120</td>\n",
       "      <td>3.0129</td>\n",
       "      <td>0.72888</td>\n",
       "      <td>0.56421</td>\n",
       "      <td>0</td>\n",
       "    </tr>\n",
       "    <tr>\n",
       "      <th>7</th>\n",
       "      <td>2.09220</td>\n",
       "      <td>-6.8100</td>\n",
       "      <td>8.46360</td>\n",
       "      <td>-0.60216</td>\n",
       "      <td>0</td>\n",
       "    </tr>\n",
       "    <tr>\n",
       "      <th>8</th>\n",
       "      <td>3.20320</td>\n",
       "      <td>5.7588</td>\n",
       "      <td>-0.75345</td>\n",
       "      <td>-0.61251</td>\n",
       "      <td>0</td>\n",
       "    </tr>\n",
       "    <tr>\n",
       "      <th>9</th>\n",
       "      <td>1.53560</td>\n",
       "      <td>9.1772</td>\n",
       "      <td>-2.27180</td>\n",
       "      <td>-0.73535</td>\n",
       "      <td>0</td>\n",
       "    </tr>\n",
       "  </tbody>\n",
       "</table>\n",
       "</div>"
      ],
      "text/plain": [
       "   variance  skewness  curtosis  entropy  class\n",
       "0   3.62160    8.6661  -2.80730 -0.44699      0\n",
       "1   4.54590    8.1674  -2.45860 -1.46210      0\n",
       "2   3.86600   -2.6383   1.92420  0.10645      0\n",
       "3   3.45660    9.5228  -4.01120 -3.59440      0\n",
       "4   0.32924   -4.4552   4.57180 -0.98880      0\n",
       "5   4.36840    9.6718  -3.96060 -3.16250      0\n",
       "6   3.59120    3.0129   0.72888  0.56421      0\n",
       "7   2.09220   -6.8100   8.46360 -0.60216      0\n",
       "8   3.20320    5.7588  -0.75345 -0.61251      0\n",
       "9   1.53560    9.1772  -2.27180 -0.73535      0"
      ]
     },
     "execution_count": 3,
     "metadata": {},
     "output_type": "execute_result"
    }
   ],
   "source": [
    "bank_note.head(10)"
   ]
  },
  {
   "cell_type": "markdown",
   "metadata": {},
   "source": [
    "# Shape of the Dataset"
   ]
  },
  {
   "cell_type": "code",
   "execution_count": 4,
   "metadata": {},
   "outputs": [
    {
     "data": {
      "text/plain": [
       "(1372, 5)"
      ]
     },
     "execution_count": 4,
     "metadata": {},
     "output_type": "execute_result"
    }
   ],
   "source": [
    "bank_note.shape"
   ]
  },
  {
   "cell_type": "markdown",
   "metadata": {},
   "source": [
    "# Checking No. of bank notes which are fraud"
   ]
  },
  {
   "cell_type": "code",
   "execution_count": 5,
   "metadata": {},
   "outputs": [
    {
     "data": {
      "text/plain": [
       "<matplotlib.axes._subplots.AxesSubplot at 0x1ad0aeeb908>"
      ]
     },
     "execution_count": 5,
     "metadata": {},
     "output_type": "execute_result"
    },
    {
     "data": {
      "image/png": "[encoded data removed]",
      "text/plain": [
       "<Figure size 432x288 with 1 Axes>"
      ]
     },
     "metadata": {},
     "output_type": "display_data"
    }
   ],
   "source": [
    "sns.countplot(x=\"class\", data=bank_note)"
   ]
  },
  {
   "cell_type": "markdown",
   "metadata": {},
   "source": [
    "# Checking the correlation"
   ]
  },
  {
   "cell_type": "code",
   "execution_count": 6,
   "metadata": {},
   "outputs": [
    {
     "data": {
      "text/plain": [
       "<matplotlib.axes._subplots.AxesSubplot at 0x1ad0cfc4278>"
      ]
     },
     "execution_count": 6,
     "metadata": {},
     "output_type": "execute_result"
    },
    {
     "data": {
      "image/png": "[encoded data removed]",
      "text/plain": [
       "<Figure size 864x648 with 2 Axes>"
      ]
     },
     "metadata": {},
     "output_type": "display_data"
    }
   ],
   "source": [
    "corrmat=bank_note.corr()\n",
    "plt.subplots(figsize=(12,9))\n",
    "sns.heatmap(corrmat,square=True)"
   ]
  },
  {
   "cell_type": "code",
   "execution_count": 7,
   "metadata": {},
   "outputs": [
    {
     "data": {
      "text/html": [
       "<div>\n",
       "<style scoped>\n",
       "    .dataframe tbody tr th:only-of-type {\n",
       "        vertical-align: middle;\n",
       "    }\n",
       "\n",
       "    .dataframe tbody tr th {\n",
       "        vertical-align: top;\n",
       "    }\n",
       "\n",
       "    .dataframe thead th {\n",
       "        text-align: right;\n",
       "    }\n",
       "</style>\n",
       "<table border=\"1\" class=\"dataframe\">\n",
       "  <thead>\n",
       "    <tr style=\"text-align: right;\">\n",
       "      <th></th>\n",
       "      <th>variance</th>\n",
       "      <th>skewness</th>\n",
       "      <th>curtosis</th>\n",
       "      <th>entropy</th>\n",
       "      <th>class</th>\n",
       "    </tr>\n",
       "  </thead>\n",
       "  <tbody>\n",
       "    <tr>\n",
       "      <th>variance</th>\n",
       "      <td>1.000000</td>\n",
       "      <td>0.264026</td>\n",
       "      <td>-0.380850</td>\n",
       "      <td>0.276817</td>\n",
       "      <td>-0.724843</td>\n",
       "    </tr>\n",
       "    <tr>\n",
       "      <th>skewness</th>\n",
       "      <td>0.264026</td>\n",
       "      <td>1.000000</td>\n",
       "      <td>-0.786895</td>\n",
       "      <td>-0.526321</td>\n",
       "      <td>-0.444688</td>\n",
       "    </tr>\n",
       "    <tr>\n",
       "      <th>curtosis</th>\n",
       "      <td>-0.380850</td>\n",
       "      <td>-0.786895</td>\n",
       "      <td>1.000000</td>\n",
       "      <td>0.318841</td>\n",
       "      <td>0.155883</td>\n",
       "    </tr>\n",
       "    <tr>\n",
       "      <th>entropy</th>\n",
       "      <td>0.276817</td>\n",
       "      <td>-0.526321</td>\n",
       "      <td>0.318841</td>\n",
       "      <td>1.000000</td>\n",
       "      <td>-0.023424</td>\n",
       "    </tr>\n",
       "    <tr>\n",
       "      <th>class</th>\n",
       "      <td>-0.724843</td>\n",
       "      <td>-0.444688</td>\n",
       "      <td>0.155883</td>\n",
       "      <td>-0.023424</td>\n",
       "      <td>1.000000</td>\n",
       "    </tr>\n",
       "  </tbody>\n",
       "</table>\n",
       "</div>"
      ],
      "text/plain": [
       "          variance  skewness  curtosis   entropy     class\n",
       "variance  1.000000  0.264026 -0.380850  0.276817 -0.724843\n",
       "skewness  0.264026  1.000000 -0.786895 -0.526321 -0.444688\n",
       "curtosis -0.380850 -0.786895  1.000000  0.318841  0.155883\n",
       "entropy   0.276817 -0.526321  0.318841  1.000000 -0.023424\n",
       "class    -0.724843 -0.444688  0.155883 -0.023424  1.000000"
      ]
     },
     "execution_count": 7,
     "metadata": {},
     "output_type": "execute_result"
    }
   ],
   "source": [
    "bank_note.corr()"
   ]
  },
  {
   "cell_type": "markdown",
   "metadata": {},
   "source": [
    "# Checking if there are any null values"
   ]
  },
  {
   "cell_type": "code",
   "execution_count": 8,
   "metadata": {},
   "outputs": [
    {
     "data": {
      "text/plain": [
       "variance    0\n",
       "skewness    0\n",
       "curtosis    0\n",
       "entropy     0\n",
       "class       0\n",
       "dtype: int64"
      ]
     },
     "execution_count": 8,
     "metadata": {},
     "output_type": "execute_result"
    }
   ],
   "source": [
    "bank_note.isnull().sum()"
   ]
  },
  {
   "cell_type": "markdown",
   "metadata": {},
   "source": [
    "# Training the Model using Deep learning"
   ]
  },
  {
   "cell_type": "code",
   "execution_count": 9,
   "metadata": {},
   "outputs": [],
   "source": [
    "X=bank_note.drop(\"class\",axis=1)\n",
    "y=bank_note[\"class\"]"
   ]
  },
  {
   "cell_type": "code",
   "execution_count": 10,
   "metadata": {},
   "outputs": [
    {
     "name": "stderr",
     "output_type": "stream",
     "text": [
      "C:\\Users\\Robinhood\\Anaconda3\\lib\\site-packages\\sklearn\\cross_validation.py:41: DeprecationWarning: This module was deprecated in version 0.18 in favor of the model_selection module into which all the refactored classes and functions are moved. Also note that the interface of the new CV iterators are different from that of this module. This module will be removed in 0.20.\n",
      "  \"This module will be removed in 0.20.\", DeprecationWarning)\n"
     ]
    }
   ],
   "source": [
    "from sklearn.cross_validation import train_test_split\n",
    "X_train, X_test, y_train, y_test=train_test_split(X, y, test_size=0.2, random_state=1)"
   ]
  },
  {
   "cell_type": "markdown",
   "metadata": {},
   "source": [
    "# Building an ANN model with 1 Dense Layer"
   ]
  },
  {
   "cell_type": "code",
   "execution_count": 11,
   "metadata": {},
   "outputs": [
    {
     "name": "stdout",
     "output_type": "stream",
     "text": [
      "WARNING:tensorflow:From C:\\Users\\Robinhood\\Anaconda3\\lib\\site-packages\\tensorflow\\python\\framework\\op_def_library.py:263: colocate_with (from tensorflow.python.framework.ops) is deprecated and will be removed in a future version.\n",
      "Instructions for updating:\n",
      "Colocations handled automatically by placer.\n",
      "_________________________________________________________________\n",
      "Layer (type)                 Output Shape              Param #   \n",
      "=================================================================\n",
      "dense_1 (Dense)              (None, 4)                 20        \n",
      "_________________________________________________________________\n",
      "dense_2 (Dense)              (None, 1)                 5         \n",
      "=================================================================\n",
      "Total params: 25\n",
      "Trainable params: 25\n",
      "Non-trainable params: 0\n",
      "_________________________________________________________________\n"
     ]
    }
   ],
   "source": [
    "model=Sequential()\n",
    "model.add(Dense(4, input_dim=4, activation=\"relu\"))\n",
    "model.add(Dense(1, activation=\"sigmoid\"))\n",
    "model.compile(loss=\"binary_crossentropy\",optimizer=\"adam\",metrics=[\"accuracy\"])\n",
    "model.summary()"
   ]
  },
  {
   "cell_type": "markdown",
   "metadata": {},
   "source": [
    "# Training an ANN Model"
   ]
  },
  {
   "cell_type": "code",
   "execution_count": 12,
   "metadata": {},
   "outputs": [
    {
     "name": "stdout",
     "output_type": "stream",
     "text": [
      "WARNING:tensorflow:From C:\\Users\\Robinhood\\Anaconda3\\lib\\site-packages\\tensorflow\\python\\ops\\math_ops.py:3066: to_int32 (from tensorflow.python.ops.math_ops) is deprecated and will be removed in a future version.\n",
      "Instructions for updating:\n",
      "Use tf.cast instead.\n",
      "Train on 987 samples, validate on 110 samples\n",
      "Epoch 1/100\n",
      "987/987 [==============================] - 1s 1ms/step - loss: 1.1343 - acc: 0.4914 - val_loss: 0.9781 - val_acc: 0.5455\n",
      "Epoch 2/100\n",
      "987/987 [==============================] - 0s 66us/step - loss: 1.0061 - acc: 0.5512 - val_loss: 0.8859 - val_acc: 0.6818\n",
      "Epoch 3/100\n",
      "987/987 [==============================] - ETA: 0s - loss: 0.8876 - acc: 0.639 - 0s 110us/step - loss: 0.8974 - acc: 0.6342 - val_loss: 0.8063 - val_acc: 0.7091\n",
      "Epoch 4/100\n",
      "987/987 [==============================] - 0s 100us/step - loss: 0.8052 - acc: 0.6930 - val_loss: 0.7336 - val_acc: 0.7727\n",
      "Epoch 5/100\n",
      "987/987 [==============================] - 0s 97us/step - loss: 0.7220 - acc: 0.7487 - val_loss: 0.6700 - val_acc: 0.7909\n",
      "Epoch 6/100\n",
      "987/987 [==============================] - 0s 98us/step - loss: 0.6512 - acc: 0.7852 - val_loss: 0.6084 - val_acc: 0.8000\n",
      "Epoch 7/100\n",
      "987/987 [==============================] - 0s 97us/step - loss: 0.5876 - acc: 0.8126 - val_loss: 0.5503 - val_acc: 0.8364\n",
      "Epoch 8/100\n",
      "987/987 [==============================] - 0s 81us/step - loss: 0.5305 - acc: 0.8308 - val_loss: 0.4978 - val_acc: 0.8636\n",
      "Epoch 9/100\n",
      "987/987 [==============================] - 0s 75us/step - loss: 0.4804 - acc: 0.8511 - val_loss: 0.4489 - val_acc: 0.9182\n",
      "Epoch 10/100\n",
      "987/987 [==============================] - 0s 81us/step - loss: 0.4357 - acc: 0.8652 - val_loss: 0.4046 - val_acc: 0.9273\n",
      "Epoch 11/100\n",
      "987/987 [==============================] - 0s 65us/step - loss: 0.3965 - acc: 0.8764 - val_loss: 0.3642 - val_acc: 0.9273\n",
      "Epoch 12/100\n",
      "987/987 [==============================] - 0s 79us/step - loss: 0.3607 - acc: 0.8804 - val_loss: 0.3289 - val_acc: 0.9455\n",
      "Epoch 13/100\n",
      "987/987 [==============================] - 0s 89us/step - loss: 0.3294 - acc: 0.8845 - val_loss: 0.2978 - val_acc: 0.9455\n",
      "Epoch 14/100\n",
      "987/987 [==============================] - 0s 107us/step - loss: 0.3020 - acc: 0.8916 - val_loss: 0.2703 - val_acc: 0.9455\n",
      "Epoch 15/100\n",
      "987/987 [==============================] - 0s 95us/step - loss: 0.2772 - acc: 0.8997 - val_loss: 0.2444 - val_acc: 0.9455\n",
      "Epoch 16/100\n",
      "987/987 [==============================] - 0s 84us/step - loss: 0.2547 - acc: 0.9119 - val_loss: 0.2223 - val_acc: 0.9636\n",
      "Epoch 17/100\n",
      "987/987 [==============================] - 0s 103us/step - loss: 0.2348 - acc: 0.9250 - val_loss: 0.2030 - val_acc: 0.9818\n",
      "Epoch 18/100\n",
      "987/987 [==============================] - 0s 73us/step - loss: 0.2166 - acc: 0.9402 - val_loss: 0.1864 - val_acc: 0.9909\n",
      "Epoch 19/100\n",
      "987/987 [==============================] - 0s 65us/step - loss: 0.2006 - acc: 0.9514 - val_loss: 0.1714 - val_acc: 0.9909\n",
      "Epoch 20/100\n",
      "987/987 [==============================] - 0s 77us/step - loss: 0.1857 - acc: 0.9574 - val_loss: 0.1577 - val_acc: 1.0000\n",
      "Epoch 21/100\n",
      "987/987 [==============================] - 0s 65us/step - loss: 0.1726 - acc: 0.9645 - val_loss: 0.1464 - val_acc: 1.0000\n",
      "Epoch 22/100\n",
      "987/987 [==============================] - 0s 73us/step - loss: 0.1608 - acc: 0.9726 - val_loss: 0.1357 - val_acc: 1.0000\n",
      "Epoch 23/100\n",
      "987/987 [==============================] - 0s 81us/step - loss: 0.1502 - acc: 0.9737 - val_loss: 0.1259 - val_acc: 1.0000\n",
      "Epoch 24/100\n",
      "987/987 [==============================] - 0s 89us/step - loss: 0.1406 - acc: 0.9858 - val_loss: 0.1180 - val_acc: 1.0000\n",
      "Epoch 25/100\n",
      "987/987 [==============================] - 0s 89us/step - loss: 0.1320 - acc: 0.9858 - val_loss: 0.1102 - val_acc: 1.0000\n",
      "Epoch 26/100\n",
      "987/987 [==============================] - 0s 114us/step - loss: 0.1242 - acc: 0.9878 - val_loss: 0.1034 - val_acc: 1.0000\n",
      "Epoch 27/100\n",
      "987/987 [==============================] - 0s 97us/step - loss: 0.1172 - acc: 0.9889 - val_loss: 0.0971 - val_acc: 1.0000\n",
      "Epoch 28/100\n",
      "987/987 [==============================] - 0s 110us/step - loss: 0.1107 - acc: 0.9889 - val_loss: 0.0912 - val_acc: 1.0000\n",
      "Epoch 29/100\n",
      "987/987 [==============================] - 0s 81us/step - loss: 0.1049 - acc: 0.9889 - val_loss: 0.0863 - val_acc: 1.0000\n",
      "Epoch 30/100\n",
      "987/987 [==============================] - 0s 81us/step - loss: 0.0995 - acc: 0.9899 - val_loss: 0.0813 - val_acc: 1.0000\n",
      "Epoch 31/100\n",
      "987/987 [==============================] - 0s 92us/step - loss: 0.0945 - acc: 0.9899 - val_loss: 0.0767 - val_acc: 1.0000\n",
      "Epoch 32/100\n",
      "987/987 [==============================] - 0s 95us/step - loss: 0.0899 - acc: 0.9909 - val_loss: 0.0726 - val_acc: 1.0000\n",
      "Epoch 33/100\n",
      "987/987 [==============================] - 0s 105us/step - loss: 0.0856 - acc: 0.9909 - val_loss: 0.0692 - val_acc: 1.0000\n",
      "Epoch 34/100\n",
      "987/987 [==============================] - 0s 97us/step - loss: 0.0818 - acc: 0.9909 - val_loss: 0.0655 - val_acc: 1.0000\n",
      "Epoch 35/100\n",
      "987/987 [==============================] - 0s 93us/step - loss: 0.0781 - acc: 0.9909 - val_loss: 0.0622 - val_acc: 1.0000\n",
      "Epoch 36/100\n",
      "987/987 [==============================] - 0s 104us/step - loss: 0.0747 - acc: 0.9909 - val_loss: 0.0592 - val_acc: 1.0000\n",
      "Epoch 37/100\n",
      "987/987 [==============================] - 0s 65us/step - loss: 0.0716 - acc: 0.9909 - val_loss: 0.0566 - val_acc: 1.0000\n",
      "Epoch 38/100\n",
      "987/987 [==============================] - 0s 73us/step - loss: 0.0685 - acc: 0.9909 - val_loss: 0.0538 - val_acc: 1.0000\n",
      "Epoch 39/100\n",
      "987/987 [==============================] - 0s 81us/step - loss: 0.0658 - acc: 0.9909 - val_loss: 0.0513 - val_acc: 1.0000\n",
      "Epoch 40/100\n",
      "987/987 [==============================] - 0s 89us/step - loss: 0.0633 - acc: 0.9919 - val_loss: 0.0490 - val_acc: 1.0000\n",
      "Epoch 41/100\n",
      "987/987 [==============================] - 0s 104us/step - loss: 0.0608 - acc: 0.9929 - val_loss: 0.0469 - val_acc: 1.0000\n",
      "Epoch 42/100\n",
      "987/987 [==============================] - 0s 91us/step - loss: 0.0586 - acc: 0.9929 - val_loss: 0.0447 - val_acc: 1.0000\n",
      "Epoch 43/100\n",
      "987/987 [==============================] - 0s 73us/step - loss: 0.0564 - acc: 0.9929 - val_loss: 0.0428 - val_acc: 1.0000\n",
      "Epoch 44/100\n",
      "987/987 [==============================] - 0s 81us/step - loss: 0.0544 - acc: 0.9929 - val_loss: 0.0408 - val_acc: 1.0000\n",
      "Epoch 45/100\n",
      "987/987 [==============================] - 0s 81us/step - loss: 0.0525 - acc: 0.9939 - val_loss: 0.0393 - val_acc: 1.0000\n",
      "Epoch 46/100\n",
      "987/987 [==============================] - 0s 73us/step - loss: 0.0507 - acc: 0.9939 - val_loss: 0.0375 - val_acc: 1.0000\n",
      "Epoch 47/100\n",
      "987/987 [==============================] - 0s 91us/step - loss: 0.0490 - acc: 0.9939 - val_loss: 0.0360 - val_acc: 1.0000\n",
      "Epoch 48/100\n",
      "987/987 [==============================] - 0s 89us/step - loss: 0.0474 - acc: 0.9939 - val_loss: 0.0347 - val_acc: 1.0000\n",
      "Epoch 49/100\n",
      "987/987 [==============================] - 0s 81us/step - loss: 0.0459 - acc: 0.9939 - val_loss: 0.0333 - val_acc: 1.0000\n",
      "Epoch 50/100\n",
      "987/987 [==============================] - 0s 89us/step - loss: 0.0444 - acc: 0.9939 - val_loss: 0.0319 - val_acc: 1.0000\n",
      "Epoch 51/100\n",
      "987/987 [==============================] - 0s 89us/step - loss: 0.0430 - acc: 0.9939 - val_loss: 0.0306 - val_acc: 1.0000\n",
      "Epoch 52/100\n",
      "987/987 [==============================] - 0s 93us/step - loss: 0.0418 - acc: 0.9939 - val_loss: 0.0295 - val_acc: 1.0000\n",
      "Epoch 53/100\n",
      "987/987 [==============================] - 0s 83us/step - loss: 0.0405 - acc: 0.9939 - val_loss: 0.0285 - val_acc: 1.0000\n",
      "Epoch 54/100\n",
      "987/987 [==============================] - 0s 65us/step - loss: 0.0393 - acc: 0.9939 - val_loss: 0.0273 - val_acc: 1.0000\n",
      "Epoch 55/100\n",
      "987/987 [==============================] - 0s 67us/step - loss: 0.0382 - acc: 0.9949 - val_loss: 0.0262 - val_acc: 1.0000\n",
      "Epoch 56/100\n",
      "987/987 [==============================] - 0s 73us/step - loss: 0.0372 - acc: 0.9949 - val_loss: 0.0253 - val_acc: 1.0000\n",
      "Epoch 57/100\n",
      "987/987 [==============================] - 0s 73us/step - loss: 0.0361 - acc: 0.9949 - val_loss: 0.0243 - val_acc: 1.0000\n",
      "Epoch 58/100\n",
      "987/987 [==============================] - 0s 82us/step - loss: 0.0352 - acc: 0.9949 - val_loss: 0.0235 - val_acc: 1.0000\n",
      "Epoch 59/100\n"
     ]
    },
    {
     "name": "stdout",
     "output_type": "stream",
     "text": [
      "987/987 [==============================] - 0s 71us/step - loss: 0.0342 - acc: 0.9949 - val_loss: 0.0226 - val_acc: 1.0000\n",
      "Epoch 60/100\n",
      "987/987 [==============================] - ETA: 0s - loss: 0.0344 - acc: 0.993 - 0s 73us/step - loss: 0.0333 - acc: 0.9949 - val_loss: 0.0218 - val_acc: 1.0000\n",
      "Epoch 61/100\n",
      "987/987 [==============================] - 0s 73us/step - loss: 0.0324 - acc: 0.9949 - val_loss: 0.0211 - val_acc: 1.0000\n",
      "Epoch 62/100\n",
      "987/987 [==============================] - 0s 69us/step - loss: 0.0316 - acc: 0.9949 - val_loss: 0.0203 - val_acc: 1.0000\n",
      "Epoch 63/100\n",
      "987/987 [==============================] - 0s 65us/step - loss: 0.0307 - acc: 0.9949 - val_loss: 0.0196 - val_acc: 1.0000\n",
      "Epoch 64/100\n",
      "987/987 [==============================] - 0s 73us/step - loss: 0.0300 - acc: 0.9949 - val_loss: 0.0190 - val_acc: 1.0000\n",
      "Epoch 65/100\n",
      "987/987 [==============================] - 0s 82us/step - loss: 0.0292 - acc: 0.9949 - val_loss: 0.0182 - val_acc: 1.0000\n",
      "Epoch 66/100\n",
      "987/987 [==============================] - 0s 61us/step - loss: 0.0284 - acc: 0.9959 - val_loss: 0.0175 - val_acc: 1.0000\n",
      "Epoch 67/100\n",
      "987/987 [==============================] - 0s 59us/step - loss: 0.0277 - acc: 0.9959 - val_loss: 0.0170 - val_acc: 1.0000\n",
      "Epoch 68/100\n",
      "987/987 [==============================] - 0s 67us/step - loss: 0.0270 - acc: 0.9959 - val_loss: 0.0165 - val_acc: 1.0000\n",
      "Epoch 69/100\n",
      "987/987 [==============================] - 0s 36us/step - loss: 0.0263 - acc: 0.9959 - val_loss: 0.0159 - val_acc: 1.0000\n",
      "Epoch 70/100\n",
      "987/987 [==============================] - 0s 68us/step - loss: 0.0256 - acc: 0.9959 - val_loss: 0.0154 - val_acc: 1.0000\n",
      "Epoch 71/100\n",
      "987/987 [==============================] - 0s 73us/step - loss: 0.0250 - acc: 0.9959 - val_loss: 0.0149 - val_acc: 1.0000\n",
      "Epoch 72/100\n",
      "987/987 [==============================] - 0s 78us/step - loss: 0.0243 - acc: 0.9959 - val_loss: 0.0143 - val_acc: 1.0000\n",
      "Epoch 73/100\n",
      "987/987 [==============================] - 0s 62us/step - loss: 0.0238 - acc: 0.9959 - val_loss: 0.0139 - val_acc: 1.0000\n",
      "Epoch 74/100\n",
      "987/987 [==============================] - 0s 57us/step - loss: 0.0232 - acc: 0.9959 - val_loss: 0.0134 - val_acc: 1.0000\n",
      "Epoch 75/100\n",
      "987/987 [==============================] - 0s 57us/step - loss: 0.0227 - acc: 0.9959 - val_loss: 0.0129 - val_acc: 1.0000\n",
      "Epoch 76/100\n",
      "987/987 [==============================] - 0s 57us/step - loss: 0.0221 - acc: 0.9959 - val_loss: 0.0127 - val_acc: 1.0000\n",
      "Epoch 77/100\n",
      "987/987 [==============================] - 0s 106us/step - loss: 0.0216 - acc: 0.9970 - val_loss: 0.0122 - val_acc: 1.0000\n",
      "Epoch 78/100\n",
      "987/987 [==============================] - 0s 56us/step - loss: 0.0211 - acc: 0.9970 - val_loss: 0.0118 - val_acc: 1.0000\n",
      "Epoch 79/100\n",
      "987/987 [==============================] - 0s 65us/step - loss: 0.0206 - acc: 0.9970 - val_loss: 0.0115 - val_acc: 1.0000\n",
      "Epoch 80/100\n",
      "987/987 [==============================] - 0s 122us/step - loss: 0.0201 - acc: 0.9970 - val_loss: 0.0112 - val_acc: 1.0000\n",
      "Epoch 81/100\n",
      "987/987 [==============================] - 0s 105us/step - loss: 0.0197 - acc: 0.9970 - val_loss: 0.0110 - val_acc: 1.0000\n",
      "Epoch 82/100\n",
      "987/987 [==============================] - 0s 65us/step - loss: 0.0192 - acc: 0.9970 - val_loss: 0.0105 - val_acc: 1.0000\n",
      "Epoch 83/100\n",
      "987/987 [==============================] - 0s 63us/step - loss: 0.0188 - acc: 0.9970 - val_loss: 0.0102 - val_acc: 1.0000\n",
      "Epoch 84/100\n",
      "987/987 [==============================] - 0s 75us/step - loss: 0.0184 - acc: 0.9970 - val_loss: 0.0100 - val_acc: 1.0000\n",
      "Epoch 85/100\n",
      "987/987 [==============================] - 0s 79us/step - loss: 0.0180 - acc: 0.9970 - val_loss: 0.0096 - val_acc: 1.0000\n",
      "Epoch 86/100\n",
      "987/987 [==============================] - 0s 74us/step - loss: 0.0176 - acc: 0.9970 - val_loss: 0.0091 - val_acc: 1.0000\n",
      "Epoch 87/100\n",
      "987/987 [==============================] - 0s 64us/step - loss: 0.0172 - acc: 0.9970 - val_loss: 0.0090 - val_acc: 1.0000\n",
      "Epoch 88/100\n",
      "987/987 [==============================] - 0s 67us/step - loss: 0.0169 - acc: 0.9970 - val_loss: 0.0087 - val_acc: 1.0000\n",
      "Epoch 89/100\n",
      "987/987 [==============================] - 0s 68us/step - loss: 0.0165 - acc: 0.9980 - val_loss: 0.0085 - val_acc: 1.0000\n",
      "Epoch 90/100\n",
      "987/987 [==============================] - 0s 83us/step - loss: 0.0161 - acc: 0.9980 - val_loss: 0.0083 - val_acc: 1.0000\n",
      "Epoch 91/100\n",
      "987/987 [==============================] - 0s 72us/step - loss: 0.0159 - acc: 0.9990 - val_loss: 0.0079 - val_acc: 1.0000\n",
      "Epoch 92/100\n",
      "987/987 [==============================] - 0s 69us/step - loss: 0.0155 - acc: 0.9990 - val_loss: 0.0079 - val_acc: 1.0000\n",
      "Epoch 93/100\n",
      "987/987 [==============================] - 0s 62us/step - loss: 0.0152 - acc: 0.9990 - val_loss: 0.0075 - val_acc: 1.0000\n",
      "Epoch 94/100\n",
      "987/987 [==============================] - 0s 74us/step - loss: 0.0148 - acc: 0.9990 - val_loss: 0.0074 - val_acc: 1.0000\n",
      "Epoch 95/100\n",
      "987/987 [==============================] - 0s 73us/step - loss: 0.0145 - acc: 0.9990 - val_loss: 0.0071 - val_acc: 1.0000\n",
      "Epoch 96/100\n",
      "987/987 [==============================] - 0s 65us/step - loss: 0.0142 - acc: 0.9990 - val_loss: 0.0068 - val_acc: 1.0000\n",
      "Epoch 97/100\n",
      "987/987 [==============================] - 0s 65us/step - loss: 0.0139 - acc: 0.9990 - val_loss: 0.0067 - val_acc: 1.0000\n",
      "Epoch 98/100\n",
      "987/987 [==============================] - 0s 73us/step - loss: 0.0135 - acc: 0.9990 - val_loss: 0.0065 - val_acc: 1.0000\n",
      "Epoch 99/100\n",
      "987/987 [==============================] - 0s 84us/step - loss: 0.0132 - acc: 0.9990 - val_loss: 0.0063 - val_acc: 1.0000\n",
      "Epoch 100/100\n",
      "987/987 [==============================] - 0s 65us/step - loss: 0.0130 - acc: 0.9990 - val_loss: 0.0060 - val_acc: 1.0000\n"
     ]
    }
   ],
   "source": [
    "history=model.fit(X_train, y_train, validation_split=0.1, epochs=100, verbose=1)"
   ]
  },
  {
   "cell_type": "code",
   "execution_count": 13,
   "metadata": {},
   "outputs": [
    {
     "data": {
      "image/png": "[encoded data removed]",
      "text/plain": [
       "<Figure size 432x288 with 1 Axes>"
      ]
     },
     "metadata": {},
     "output_type": "display_data"
    }
   ],
   "source": [
    "plt.plot(history.history['acc'])\n",
    "plt.plot(history.history['val_acc'])\n",
    "plt.title('model accuracy')\n",
    "plt.xlabel('accuracy')\n",
    "plt.ylabel('epoch')\n",
    "plt.legend(['train', 'val'], loc='upper left')\n",
    "plt.show()"
   ]
  },
  {
   "cell_type": "code",
   "execution_count": 14,
   "metadata": {},
   "outputs": [
    {
     "data": {
      "image/png": "[encoded data removed]",
      "text/plain": [
       "<Figure size 432x288 with 1 Axes>"
      ]
     },
     "metadata": {},
     "output_type": "display_data"
    }
   ],
   "source": [
    "plt.plot(history.history['loss'])\n",
    "plt.plot(history.history['val_loss'])\n",
    "plt.title('model loss')\n",
    "plt.xlabel('epoch')\n",
    "plt.ylabel('loss')\n",
    "plt.legend(['training loss', 'Validation loss'], loc='upper left')\n",
    "plt.show()"
   ]
  },
  {
   "cell_type": "markdown",
   "metadata": {},
   "source": [
    "# Accuracy of the Dataset"
   ]
  },
  {
   "cell_type": "code",
   "execution_count": 15,
   "metadata": {},
   "outputs": [
    {
     "name": "stdout",
     "output_type": "stream",
     "text": [
      "1097/1097 [==============================] - 0s 36us/step\n",
      "Accuracy:99.91\n"
     ]
    }
   ],
   "source": [
    "_,accuracy=model.evaluate(X_train, y_train)\n",
    "print(\"Accuracy:%.2f\"%(accuracy*100))"
   ]
  },
  {
   "cell_type": "markdown",
   "metadata": {},
   "source": [
    "# Calculating F-1 score"
   ]
  },
  {
   "cell_type": "code",
   "execution_count": 16,
   "metadata": {},
   "outputs": [
    {
     "data": {
      "text/html": [
       "<div>\n",
       "<style scoped>\n",
       "    .dataframe tbody tr th:only-of-type {\n",
       "        vertical-align: middle;\n",
       "    }\n",
       "\n",
       "    .dataframe tbody tr th {\n",
       "        vertical-align: top;\n",
       "    }\n",
       "\n",
       "    .dataframe thead th {\n",
       "        text-align: right;\n",
       "    }\n",
       "</style>\n",
       "<table border=\"1\" class=\"dataframe\">\n",
       "  <thead>\n",
       "    <tr style=\"text-align: right;\">\n",
       "      <th></th>\n",
       "      <th>Test accuracy</th>\n",
       "      <th>F1 Score</th>\n",
       "      <th>Total Loss</th>\n",
       "    </tr>\n",
       "  </thead>\n",
       "  <tbody>\n",
       "    <tr>\n",
       "      <th>0</th>\n",
       "      <td>99.273</td>\n",
       "      <td>0.993</td>\n",
       "      <td>0.019</td>\n",
       "    </tr>\n",
       "  </tbody>\n",
       "</table>\n",
       "</div>"
      ],
      "text/plain": [
       "   Test accuracy  F1 Score  Total Loss\n",
       "0         99.273     0.993       0.019"
      ]
     },
     "metadata": {},
     "output_type": "display_data"
    }
   ],
   "source": [
    "test_loss=model.evaluate(X_test, y_test, verbose=0)\n",
    "\n",
    "# Calculate evaluation Parameters\n",
    "f1=f1_score(y_test, model.predict_classes(X_test), average='micro')\n",
    "\n",
    "stats=pd.DataFrame({'Test accuracy':\n",
    "                   round(test_loss[1]*100,3),\n",
    "                   'F1 Score' : round(f1,3),\n",
    "                   'Total Loss': round(test_loss[0],3)},\n",
    "                  index=[0])\n",
    "\n",
    "display(stats)"
   ]
  },
  {
   "cell_type": "code",
   "execution_count": null,
   "metadata": {},
   "outputs": [],
   "source": []
  },
  {
   "cell_type": "code",
   "execution_count": null,
   "metadata": {},
   "outputs": [],
   "source": []
  }
 ],
 "metadata": {
  "kernelspec": {
   "display_name": "Python 3",
   "language": "python",
   "name": "python3"
  },
  "language_info": {
   "codemirror_mode": {
    "name": "ipython",
    "version": 3
   },
   "file_extension": ".py",
   "mimetype": "text/x-python",
   "name": "python",
   "nbconvert_exporter": "python",
   "pygments_lexer": "ipython3",
   "version": "3.6.5"
  }
 },
 "nbformat": 4,
 "nbformat_minor": 2
}
